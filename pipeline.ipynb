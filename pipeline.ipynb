{
 "cells": [
  {
   "cell_type": "code",
   "execution_count": 1,
   "metadata": {
    "collapsed": true
   },
   "outputs": [],
   "source": [
    "import nipype\n",
    "\n",
    "from nipype.interfaces import fsl\n",
    "from nipype.interfaces import ants\n",
    "from nipype.interfaces import freesurfer\n",
    "import os"
   ]
  },
  {
   "cell_type": "code",
   "execution_count": 2,
   "metadata": {},
   "outputs": [],
   "source": [
    "base_dir=os.path.abspath('examples/')\n",
    "subject_list =sorted(next(os.walk(base_dir))[1])"
   ]
  },
  {
   "cell_type": "code",
   "execution_count": 3,
   "metadata": {
    "collapsed": true
   },
   "outputs": [],
   "source": [
    "CORES=4\n",
    "TASKS=2"
   ]
  },
  {
   "cell_type": "code",
   "execution_count": 4,
   "metadata": {},
   "outputs": [],
   "source": [
    "grabber = nipype.Node(interface=nipype.DataGrabber(infields=['arg'],outfields=['out_file']), name='grabber')      \n",
    "grabber.inputs.base_directory = base_dir\n",
    "grabber.inputs.sort_filelist = True\n",
    "grabber.inputs.template = '*/%s.nii.gz'\n",
    "grabber.inputs.arg = 't1w'"
   ]
  },
  {
   "cell_type": "code",
   "execution_count": 5,
   "metadata": {
    "collapsed": true
   },
   "outputs": [],
   "source": [
    "sink = nipype.Node(interface=nipype.DataSink(),name='sink')\n",
    "sink.inputs.base_directory = base_dir\n",
    "substitutions=[]\n",
    "for i in range(len(subject_list)):\n",
    "    substitutions+= [(\"_neck_remove\"+str(i), subject_list[i])]\n",
    "substitutions+= [(\"subject_id_\", \"\")]\n",
    "    \n",
    "sink.inputs.substitutions =substitutions "
   ]
  },
  {
   "cell_type": "code",
   "execution_count": 6,
   "metadata": {
    "collapsed": true
   },
   "outputs": [],
   "source": [
    "sink2 = nipype.Node(interface=nipype.DataSink(),name='sink2')\n",
    "sink2.inputs.base_directory = base_dir\n",
    "substitutions=[]\n",
    "for i in range(len(subject_list)):\n",
    "    substitutions+= [(\"_N4_FC\"+str(i), subject_list[i])]\n",
    "substitutions+= [(\"subject_id_\", \"\")]\n",
    "    \n",
    "sink2.inputs.substitutions =substitutions "
   ]
  },
  {
   "cell_type": "code",
   "execution_count": 7,
   "metadata": {
    "collapsed": true
   },
   "outputs": [],
   "source": [
    "# Neck removal by FSL robustfov\n",
    "neck_remove=nipype.MapNode(interface=fsl.RobustFOV(), name='neck_remove', iterfield=['in_file'])\n",
    "neck_remove.inputs.out_roi=\"t1w_fov.nii.gz\""
   ]
  },
  {
   "cell_type": "code",
   "execution_count": 8,
   "metadata": {
    "collapsed": true
   },
   "outputs": [],
   "source": [
    "# Field Inhomogenity estimation (if any) and removal by ANTs N4BiasFieldCorrection\n",
    "N4_FC=nipype.MapNode(interface=ants.N4BiasFieldCorrection(), name=\"N4_FC\", iterfield=['input_image'])\n",
    "N4_FC.inputs.dimension = 3\n",
    "N4_FC.inputs.output_image=\"t1w_fov_N4.nii.gz\"\n",
    "N4_FC.inputs.num_threads=CORES"
   ]
  },
  {
   "cell_type": "code",
   "execution_count": 9,
   "metadata": {},
   "outputs": [],
   "source": [
    "workflow = nipype.Workflow('workflow')\n",
    "workflow.connect([(grabber, neck_remove, [('out_file', 'in_file')]),\n",
    "                  (neck_remove, sink, [('out_roi', '@in_file')]),\n",
    "                  (neck_remove, N4_FC, [('out_roi', 'input_image')]),\n",
    "                  (N4_FC, sink2, [('output_image', '@in_file')])\n",
    "                 ])"
   ]
  },
  {
   "cell_type": "code",
   "execution_count": 10,
   "metadata": {},
   "outputs": [
    {
     "name": "stdout",
     "output_type": "stream",
     "text": [
      "170927-19:18:21,616 workflow INFO:\n",
      "\t Workflow workflow settings: ['check', 'execution', 'logging']\n",
      "170927-19:18:21,676 workflow INFO:\n",
      "\t Running in parallel.\n",
      "170927-19:18:21,680 workflow INFO:\n",
      "\t Executing: grabber ID: 0\n",
      "170927-19:18:21,686 workflow INFO:\n",
      "\t Executing node grabber in dir: /var/folders/5_/33p0sl3j2_ngqn_gghyy2zj00000gn/T/tmpYONPEl/workflow/grabber\n",
      "170927-19:18:21,753 workflow INFO:\n",
      "\t [Job finished] jobname: grabber jobid: 0\n",
      "170927-19:18:21,757 workflow INFO:\n",
      "\t Executing: neck_remove ID: 1\n",
      "170927-19:18:21,764 workflow INFO:\n",
      "\t Adding 3 jobs for mapnode neck_remove\n",
      "170927-19:18:21,769 workflow INFO:\n",
      "\t Executing: _neck_remove0 ID: 5\n",
      "170927-19:18:21,772 workflow INFO:\n",
      "\t Executing: _neck_remove1 ID: 6\n",
      "170927-19:18:21,777 workflow INFO:\n",
      "\t Executing node _neck_remove1 in dir: /var/folders/5_/33p0sl3j2_ngqn_gghyy2zj00000gn/T/tmpoXJ6PQ/workflow/neck_remove/mapflow/_neck_remove1\n",
      "170927-19:18:21,777 workflow INFO:\n",
      "\t Executing node _neck_remove0 in dir: /var/folders/5_/33p0sl3j2_ngqn_gghyy2zj00000gn/T/tmpoXJ6PQ/workflow/neck_remove/mapflow/_neck_remove0\n",
      "170927-19:18:21,787 workflow INFO:\n",
      "\t Running: robustfov -i /Users/poggiali/GitHub/dementiawindow/examples/myself/t1w.nii.gz -r t1w_fov.nii.gz -m t1w_to_ROI.nii.gz\n",
      "170927-19:18:21,793 workflow INFO:\n",
      "\t Running: robustfov -i /Users/poggiali/GitHub/dementiawindow/examples/another_guy/t1w.nii.gz -r t1w_fov.nii.gz -m t1w_to_ROI.nii.gz\n",
      "170927-19:18:39,414 workflow INFO:\n",
      "\t [Job finished] jobname: _neck_remove1 jobid: 6\n",
      "170927-19:18:39,417 workflow INFO:\n",
      "\t Executing: _neck_remove2 ID: 7\n",
      "170927-19:18:39,421 workflow INFO:\n",
      "\t Executing node _neck_remove2 in dir: /var/folders/5_/33p0sl3j2_ngqn_gghyy2zj00000gn/T/tmpoXJ6PQ/workflow/neck_remove/mapflow/_neck_remove2\n",
      "170927-19:18:39,430 workflow INFO:\n",
      "\t Running: robustfov -i /Users/poggiali/GitHub/dementiawindow/examples/yet_another/t1w.nii.gz -r t1w_fov.nii.gz -m t1w_to_ROI.nii.gz\n",
      "170927-19:18:50,522 workflow INFO:\n",
      "\t [Job finished] jobname: _neck_remove0 jobid: 5\n",
      "170927-19:19:05,795 workflow INFO:\n",
      "\t [Job finished] jobname: _neck_remove2 jobid: 7\n",
      "170927-19:19:05,797 workflow INFO:\n",
      "\t Executing: neck_remove ID: 1\n",
      "170927-19:19:05,802 workflow INFO:\n",
      "\t Executing node neck_remove in dir: /var/folders/5_/33p0sl3j2_ngqn_gghyy2zj00000gn/T/tmpoXJ6PQ/workflow/neck_remove\n",
      "170927-19:19:05,819 workflow INFO:\n",
      "\t Executing node _neck_remove0 in dir: /var/folders/5_/33p0sl3j2_ngqn_gghyy2zj00000gn/T/tmpoXJ6PQ/workflow/neck_remove/mapflow/_neck_remove0\n",
      "170927-19:19:05,822 workflow INFO:\n",
      "\t Collecting precomputed outputs\n",
      "170927-19:19:05,829 workflow INFO:\n",
      "\t Executing node _neck_remove1 in dir: /var/folders/5_/33p0sl3j2_ngqn_gghyy2zj00000gn/T/tmpoXJ6PQ/workflow/neck_remove/mapflow/_neck_remove1\n",
      "170927-19:19:05,833 workflow INFO:\n",
      "\t Collecting precomputed outputs\n",
      "170927-19:19:05,841 workflow INFO:\n",
      "\t Executing node _neck_remove2 in dir: /var/folders/5_/33p0sl3j2_ngqn_gghyy2zj00000gn/T/tmpoXJ6PQ/workflow/neck_remove/mapflow/_neck_remove2\n",
      "170927-19:19:05,845 workflow INFO:\n",
      "\t Collecting precomputed outputs\n",
      "170927-19:19:05,871 workflow INFO:\n",
      "\t [Job finished] jobname: neck_remove jobid: 1\n",
      "170927-19:19:05,874 workflow INFO:\n",
      "\t Executing: N4_FC ID: 2\n",
      "170927-19:19:05,886 workflow INFO:\n",
      "\t Adding 3 jobs for mapnode N4_FC\n",
      "170927-19:19:05,889 workflow INFO:\n",
      "\t Executing: sink ID: 4\n",
      "170927-19:19:05,903 workflow INFO:\n",
      "\t Executing node sink in dir: /var/folders/5_/33p0sl3j2_ngqn_gghyy2zj00000gn/T/tmpjdMMJ8/workflow/sink\n",
      "170927-19:19:05,916 interface INFO:\n",
      "\t sub: /Users/poggiali/GitHub/dementiawindow/examples/_neck_remove0/t1w_fov.nii.gz -> /Users/poggiali/GitHub/dementiawindow/examples/another_guy/t1w_fov.nii.gz\n",
      "170927-19:19:06,177 interface INFO:\n",
      "\t sub: /Users/poggiali/GitHub/dementiawindow/examples/_neck_remove1/t1w_fov.nii.gz -> /Users/poggiali/GitHub/dementiawindow/examples/myself/t1w_fov.nii.gz\n",
      "170927-19:19:06,486 interface INFO:\n",
      "\t sub: /Users/poggiali/GitHub/dementiawindow/examples/_neck_remove2/t1w_fov.nii.gz -> /Users/poggiali/GitHub/dementiawindow/examples/yet_another/t1w_fov.nii.gz\n",
      "170927-19:19:06,721 workflow INFO:\n",
      "\t [Job finished] jobname: sink jobid: 4\n",
      "170927-19:19:06,724 workflow INFO:\n",
      "\t Executing: _N4_FC0 ID: 8\n",
      "170927-19:19:06,727 workflow INFO:\n",
      "\t Executing: _N4_FC1 ID: 9\n",
      "170927-19:19:06,728 workflow INFO:\n",
      "\t Executing node _N4_FC0 in dir: /var/folders/5_/33p0sl3j2_ngqn_gghyy2zj00000gn/T/tmpLwWMWB/workflow/N4_FC/mapflow/_N4_FC0\n",
      "170927-19:19:06,731 workflow INFO:\n",
      "\t Executing node _N4_FC1 in dir: /var/folders/5_/33p0sl3j2_ngqn_gghyy2zj00000gn/T/tmpLwWMWB/workflow/N4_FC/mapflow/_N4_FC1\n",
      "170927-19:19:06,737 workflow INFO:\n",
      "\t Running: N4BiasFieldCorrection -d 3 --input-image /private/var/folders/5_/33p0sl3j2_ngqn_gghyy2zj00000gn/T/tmpoXJ6PQ/workflow/neck_remove/mapflow/_neck_remove0/t1w_fov.nii.gz --output t1w_fov_N4.nii.gz\n",
      "170927-19:19:06,740 workflow INFO:\n",
      "\t Running: N4BiasFieldCorrection -d 3 --input-image /private/var/folders/5_/33p0sl3j2_ngqn_gghyy2zj00000gn/T/tmpoXJ6PQ/workflow/neck_remove/mapflow/_neck_remove1/t1w_fov.nii.gz --output t1w_fov_N4.nii.gz\n",
      "170927-19:21:42,442 workflow INFO:\n",
      "\t [Job finished] jobname: _N4_FC0 jobid: 8\n",
      "170927-19:21:42,445 workflow INFO:\n",
      "\t Executing: _N4_FC2 ID: 10\n",
      "170927-19:21:42,449 workflow INFO:\n",
      "\t Executing node _N4_FC2 in dir: /var/folders/5_/33p0sl3j2_ngqn_gghyy2zj00000gn/T/tmpLwWMWB/workflow/N4_FC/mapflow/_N4_FC2\n",
      "170927-19:21:42,459 workflow INFO:\n",
      "\t Running: N4BiasFieldCorrection -d 3 --input-image /private/var/folders/5_/33p0sl3j2_ngqn_gghyy2zj00000gn/T/tmpoXJ6PQ/workflow/neck_remove/mapflow/_neck_remove2/t1w_fov.nii.gz --output t1w_fov_N4.nii.gz\n",
      "170927-19:22:46,704 workflow INFO:\n",
      "\t [Job finished] jobname: _N4_FC1 jobid: 9\n",
      "170927-19:23:44,763 workflow INFO:\n",
      "\t [Job finished] jobname: _N4_FC2 jobid: 10\n",
      "170927-19:23:44,768 workflow INFO:\n",
      "\t Executing: N4_FC ID: 2\n",
      "170927-19:23:44,775 workflow INFO:\n",
      "\t Executing node N4_FC in dir: /var/folders/5_/33p0sl3j2_ngqn_gghyy2zj00000gn/T/tmpLwWMWB/workflow/N4_FC\n",
      "170927-19:23:44,793 workflow INFO:\n",
      "\t Executing node _N4_FC0 in dir: /var/folders/5_/33p0sl3j2_ngqn_gghyy2zj00000gn/T/tmpLwWMWB/workflow/N4_FC/mapflow/_N4_FC0\n",
      "170927-19:23:44,796 workflow INFO:\n",
      "\t Collecting precomputed outputs\n",
      "170927-19:23:44,802 workflow INFO:\n",
      "\t Executing node _N4_FC1 in dir: /var/folders/5_/33p0sl3j2_ngqn_gghyy2zj00000gn/T/tmpLwWMWB/workflow/N4_FC/mapflow/_N4_FC1\n",
      "170927-19:23:44,805 workflow INFO:\n",
      "\t Collecting precomputed outputs\n",
      "170927-19:23:44,811 workflow INFO:\n",
      "\t Executing node _N4_FC2 in dir: /var/folders/5_/33p0sl3j2_ngqn_gghyy2zj00000gn/T/tmpLwWMWB/workflow/N4_FC/mapflow/_N4_FC2\n",
      "170927-19:23:44,814 workflow INFO:\n",
      "\t Collecting precomputed outputs\n",
      "170927-19:23:44,845 workflow INFO:\n",
      "\t [Job finished] jobname: N4_FC jobid: 2\n",
      "170927-19:23:44,848 workflow INFO:\n",
      "\t Executing: sink2 ID: 3\n",
      "170927-19:23:44,859 workflow INFO:\n",
      "\t Executing node sink2 in dir: /var/folders/5_/33p0sl3j2_ngqn_gghyy2zj00000gn/T/tmp_SVzEX/workflow/sink2\n",
      "170927-19:23:44,869 interface INFO:\n",
      "\t sub: /Users/poggiali/GitHub/dementiawindow/examples/_N4_FC0/t1w_fov_N4.nii.gz -> /Users/poggiali/GitHub/dementiawindow/examples/another_guy/t1w_fov_N4.nii.gz\n",
      "170927-19:23:44,872 interface INFO:\n",
      "\t sub: /Users/poggiali/GitHub/dementiawindow/examples/_N4_FC1/t1w_fov_N4.nii.gz -> /Users/poggiali/GitHub/dementiawindow/examples/myself/t1w_fov_N4.nii.gz\n",
      "170927-19:23:44,874 interface INFO:\n",
      "\t sub: /Users/poggiali/GitHub/dementiawindow/examples/_N4_FC2/t1w_fov_N4.nii.gz -> /Users/poggiali/GitHub/dementiawindow/examples/yet_another/t1w_fov_N4.nii.gz\n",
      "170927-19:23:44,890 workflow INFO:\n",
      "\t [Job finished] jobname: sink2 jobid: 3\n"
     ]
    },
    {
     "data": {
      "text/plain": [
       "<networkx.classes.digraph.DiGraph at 0x11024d610>"
      ]
     },
     "execution_count": 10,
     "metadata": {},
     "output_type": "execute_result"
    }
   ],
   "source": [
    "#workflow.run()\n",
    "workflow.run('MultiProc', plugin_args={'n_procs': TASKS})"
   ]
  },
  {
   "cell_type": "code",
   "execution_count": null,
   "metadata": {
    "collapsed": true
   },
   "outputs": [],
   "source": []
  }
 ],
 "metadata": {
  "kernelspec": {
   "display_name": "Python [default]",
   "language": "python",
   "name": "python2"
  },
  "language_info": {
   "codemirror_mode": {
    "name": "ipython",
    "version": 2
   },
   "file_extension": ".py",
   "mimetype": "text/x-python",
   "name": "python",
   "nbconvert_exporter": "python",
   "pygments_lexer": "ipython2",
   "version": "2.7.13"
  }
 },
 "nbformat": 4,
 "nbformat_minor": 2
}
