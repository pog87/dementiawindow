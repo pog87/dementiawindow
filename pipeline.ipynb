{
 "cells": [
  {
   "cell_type": "code",
   "execution_count": 1,
   "metadata": {
    "collapsed": true
   },
   "outputs": [],
   "source": [
    "import nipype\n",
    "\n",
    "from nipype.interfaces import fsl\n",
    "from nipype.interfaces import ants\n",
    "from nipype.interfaces import freesurfer\n",
    "from os.path import abspath"
   ]
  },
  {
   "cell_type": "code",
   "execution_count": 2,
   "metadata": {
    "collapsed": true
   },
   "outputs": [],
   "source": [
    "base_dir=abspath('examples/')"
   ]
  },
  {
   "cell_type": "code",
   "execution_count": 3,
   "metadata": {
    "collapsed": true
   },
   "outputs": [],
   "source": [
    "CORES=4\n",
    "TASKS=2"
   ]
  },
  {
   "cell_type": "code",
   "execution_count": 4,
   "metadata": {
    "collapsed": true
   },
   "outputs": [],
   "source": [
    "grabber = nipype.Node(interface=nipype.DataGrabber(infields=['arg'],outfields=['out_file']), name='grabber')      \n",
    "grabber.inputs.base_directory = base_dir\n",
    "grabber.inputs.sort_filelist = False\n",
    "grabber.inputs.template = '*/%s.nii.gz'\n",
    "grabber.inputs.arg = 't1w'"
   ]
  },
  {
   "cell_type": "code",
   "execution_count": 5,
   "metadata": {},
   "outputs": [],
   "source": [
    "#a=grabber.run()\n",
    "#a.outputs"
   ]
  },
  {
   "cell_type": "code",
   "execution_count": 6,
   "metadata": {
    "collapsed": true
   },
   "outputs": [],
   "source": [
    "sink = nipype.Node(interface=nipype.DataSink(),name='sink')\n",
    "sink.inputs.base_directory = base_dir\n",
    "# this is to force sink to use the inputs dirs \n",
    "# credits: https://gist.github.com/lebedov/9294b8b37640db911bfc987aca49f239\n",
    "#sink.inputs.regexp_substitutions = [('_\\w+\\d+', '')]"
   ]
  },
  {
   "cell_type": "raw",
   "metadata": {},
   "source": [
    "print sink.interface.inputs\n",
    "a=sink.run()"
   ]
  },
  {
   "cell_type": "code",
   "execution_count": 7,
   "metadata": {
    "collapsed": true
   },
   "outputs": [],
   "source": [
    "# Neck removal by FSL robustfov\n",
    "neck_remove=nipype.MapNode(interface=fsl.RobustFOV(), name='neck_remove', iterfield=['in_file'])\n",
    "neck_remove.inputs.out_roi=\"t1w_fov.nii.gz\""
   ]
  },
  {
   "cell_type": "code",
   "execution_count": 37,
   "metadata": {
    "collapsed": true
   },
   "outputs": [],
   "source": [
    "# Field Inhomogenity estimation (if any) and removal by ANTs N4BiasFieldCorrection\n",
    "N4_FC=nipype.MapNode(interface=ants.N4BiasFieldCorrection(), name=\"N4_FC\", iterfield=['input_image'])\n",
    "N4_FC.inputs.dimension = 3\n",
    "N4_FC.inputs.output_image=\"t1w_fov_N4.nii.gz\"\n",
    "N4_FC.inputs.num_threads=CORES"
   ]
  },
  {
   "cell_type": "code",
   "execution_count": 10,
   "metadata": {
    "collapsed": true
   },
   "outputs": [],
   "source": [
    "workflow = nipype.Workflow('workflow')\n",
    "#workflow.connect([(grabber, neck_remove, [('out_file', 'in_file')]),\n",
    "#                  (neck_remove, N4_FC, [('out_roi', 'input_image')]),\n",
    "#                  (N4_FC, sink, [('output_image', 'preproc.@in_file')]),\n",
    "#                 ])\n",
    "workflow.connect([(grabber, neck_remove, [('out_file', 'in_file')]),\n",
    "                  (neck_remove, sink, [('out_roi', '@in_file')]),\n",
    "                 ])"
   ]
  },
  {
   "cell_type": "code",
   "execution_count": 11,
   "metadata": {},
   "outputs": [
    {
     "name": "stdout",
     "output_type": "stream",
     "text": [
      "170921-17:55:09,979 workflow INFO:\n",
      "\t Workflow workflow settings: ['check', 'execution', 'logging']\n",
      "170921-17:55:10,22 workflow INFO:\n",
      "\t Running in parallel.\n",
      "170921-17:55:10,26 workflow INFO:\n",
      "\t Executing: grabber ID: 0\n",
      "170921-17:55:10,32 workflow INFO:\n",
      "\t Executing node grabber in dir: /var/folders/5_/33p0sl3j2_ngqn_gghyy2zj00000gn/T/tmpF7obBI/workflow/grabber\n",
      "170921-17:55:10,99 workflow INFO:\n",
      "\t [Job finished] jobname: grabber jobid: 0\n",
      "170921-17:55:10,102 workflow INFO:\n",
      "\t Executing: neck_remove ID: 1\n",
      "170921-17:55:10,113 workflow INFO:\n",
      "\t Adding 2 jobs for mapnode neck_remove\n",
      "170921-17:55:10,117 workflow INFO:\n",
      "\t Executing: _neck_remove0 ID: 3\n",
      "170921-17:55:10,120 workflow INFO:\n",
      "\t Executing: _neck_remove1 ID: 4\n",
      "170921-17:55:10,125 workflow INFO:\n",
      "\t Executing node _neck_remove1 in dir: /var/folders/5_/33p0sl3j2_ngqn_gghyy2zj00000gn/T/tmpOX9MdR/workflow/neck_remove/mapflow/_neck_remove1\n",
      "170921-17:55:10,124 workflow INFO:\n",
      "\t Executing node _neck_remove0 in dir: /var/folders/5_/33p0sl3j2_ngqn_gghyy2zj00000gn/T/tmpOX9MdR/workflow/neck_remove/mapflow/_neck_remove0\n",
      "170921-17:55:10,138 workflow INFO:\n",
      "\t Running: robustfov -i /Users/poggiali/GitHub/dementiawindow/examples/myself/t1w.nii.gz -r t1w_fov.nii.gz -m t1w_to_ROI.nii.gz\n",
      "170921-17:55:10,143 workflow INFO:\n",
      "\t Running: robustfov -i /Users/poggiali/GitHub/dementiawindow/examples/another_guy/t1w.nii.gz -r t1w_fov.nii.gz -m t1w_to_ROI.nii.gz\n",
      "170921-17:55:28,654 workflow INFO:\n",
      "\t [Job finished] jobname: _neck_remove1 jobid: 4\n",
      "170921-17:55:28,676 workflow INFO:\n",
      "\t [Job finished] jobname: _neck_remove0 jobid: 3\n",
      "170921-17:55:28,679 workflow INFO:\n",
      "\t Executing: neck_remove ID: 1\n",
      "170921-17:55:28,686 workflow INFO:\n",
      "\t Executing node neck_remove in dir: /var/folders/5_/33p0sl3j2_ngqn_gghyy2zj00000gn/T/tmpOX9MdR/workflow/neck_remove\n",
      "170921-17:55:28,700 workflow INFO:\n",
      "\t Executing node _neck_remove0 in dir: /var/folders/5_/33p0sl3j2_ngqn_gghyy2zj00000gn/T/tmpOX9MdR/workflow/neck_remove/mapflow/_neck_remove0\n",
      "170921-17:55:28,703 workflow INFO:\n",
      "\t Collecting precomputed outputs\n",
      "170921-17:55:28,709 workflow INFO:\n",
      "\t Executing node _neck_remove1 in dir: /var/folders/5_/33p0sl3j2_ngqn_gghyy2zj00000gn/T/tmpOX9MdR/workflow/neck_remove/mapflow/_neck_remove1\n",
      "170921-17:55:28,712 workflow INFO:\n",
      "\t Collecting precomputed outputs\n",
      "170921-17:55:28,754 workflow INFO:\n",
      "\t [Job finished] jobname: neck_remove jobid: 1\n",
      "170921-17:55:28,758 workflow INFO:\n",
      "\t Executing: sink ID: 2\n",
      "170921-17:55:28,767 workflow INFO:\n",
      "\t Executing node sink in dir: /var/folders/5_/33p0sl3j2_ngqn_gghyy2zj00000gn/T/tmp1psmkL/workflow/sink\n",
      "170921-17:55:28,798 workflow INFO:\n",
      "\t [Job finished] jobname: sink jobid: 2\n"
     ]
    },
    {
     "data": {
      "text/plain": [
       "<networkx.classes.digraph.DiGraph at 0x113749950>"
      ]
     },
     "execution_count": 11,
     "metadata": {},
     "output_type": "execute_result"
    }
   ],
   "source": [
    "#workflow.run()\n",
    "workflow.run('MultiProc', plugin_args={'n_procs': TASKS})"
   ]
  },
  {
   "cell_type": "code",
   "execution_count": null,
   "metadata": {},
   "outputs": [],
   "source": []
  },
  {
   "cell_type": "raw",
   "metadata": {
    "collapsed": true
   },
   "source": [
    "grabber = nipype.Node(interface=nipype.DataGrabber( outfields=['out_file']), name='grabber')                      \n",
    "grabber.inputs.base_directory = base_dir\n",
    "grabber.inputs.sort_filelist = True\n",
    "grabber.inputs.template = '*/t1w.nii.gz' #all folders, all files named t1w.nii.gz"
   ]
  },
  {
   "cell_type": "raw",
   "metadata": {},
   "source": [
    "# DataGrabber asks you how to take input files,\n",
    "# DataSink where/how to save final output file\n",
    "#  everything else is saved in a temp directory.\n",
    "\n",
    "grabber = nipype.Node(interface=nipype.DataGrabber( outfields=['out_file']), name='grabber')                      \n",
    "grabber.inputs.base_directory = base_dir\n",
    "grabber.inputs.sort_filelist = True\n",
    "grabber.inputs.template = '*/t1w.nii.gz' #all folders, all files named t1w.nii.gz"
   ]
  }
 ],
 "metadata": {
  "kernelspec": {
   "display_name": "Python [default]",
   "language": "python",
   "name": "python2"
  },
  "language_info": {
   "codemirror_mode": {
    "name": "ipython",
    "version": 2
   },
   "file_extension": ".py",
   "mimetype": "text/x-python",
   "name": "python",
   "nbconvert_exporter": "python",
   "pygments_lexer": "ipython2",
   "version": "2.7.13"
  }
 },
 "nbformat": 4,
 "nbformat_minor": 2
}
