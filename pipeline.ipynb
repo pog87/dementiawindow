{
 "cells": [
  {
   "cell_type": "code",
   "execution_count": 1,
   "metadata": {
    "collapsed": true
   },
   "outputs": [],
   "source": [
    "import nipype\n",
    "\n",
    "from nipype import Node, Workflow\n",
    "from nipype.interfaces import fsl\n",
    "from nipype.interfaces import ants\n",
    "from nipype.interfaces import freesurfer\n",
    "from os.path import abspath"
   ]
  },
  {
   "cell_type": "code",
   "execution_count": 2,
   "metadata": {
    "collapsed": true
   },
   "outputs": [],
   "source": [
    "base_dir=abspath('examples/')"
   ]
  },
  {
   "cell_type": "code",
   "execution_count": 3,
   "metadata": {
    "collapsed": true
   },
   "outputs": [],
   "source": [
    "CORES=4\n",
    "TASKS=2"
   ]
  },
  {
   "cell_type": "code",
   "execution_count": 4,
   "metadata": {
    "collapsed": true
   },
   "outputs": [],
   "source": [
    "# grabber asks you how to take input files,\n",
    "# sink where/how to save final output file\n",
    "#everything else is saved in a temp directory\n",
    "\n",
    "grabber = nipype.Node(interface=nipype.DataGrabber( outfields=['out_file']), name='grabber')                      \n",
    "grabber.inputs.base_directory = base_dir\n",
    "grabber.inputs.sort_filelist = True\n",
    "grabber.inputs.template = '*/t1w.nii.gz' #all folders, all files named t1w.nii.gz\n",
    "\n",
    "sink = nipype.Node(interface=nipype.DataSink(),name='sink')\n",
    "sink.inputs.base_directory = base_dir\n"
   ]
  },
  {
   "cell_type": "code",
   "execution_count": 5,
   "metadata": {
    "collapsed": true
   },
   "outputs": [],
   "source": [
    "# Neck removal by FSL robustfov\n",
    "neck_remove=nipype.MapNode(interface=fsl.RobustFOV(), name='neck_remove', iterfield=['in_file'])\n",
    "neck_remove.inputs.out_roi=\"t1w_fov.nii.gz\"\n",
    "\n",
    "# Field Inhomogenity estimation (if any) and removal by ANTs N4BiasFieldCorrection\n",
    "N4_FC=nipype.MapNode(interface=ants.N4BiasFieldCorrection(),name=\"N4_FC\", iterfield=['input_image'])\n",
    "N4_FC.inputs.dimension = 3\n",
    "N4_FC.inputs.output_image=\"t1w_fov_N4.nii.gz\"\n",
    "N4_FC.inputs.num_threads=CORES"
   ]
  },
  {
   "cell_type": "code",
   "execution_count": 6,
   "metadata": {
    "collapsed": true
   },
   "outputs": [],
   "source": [
    "workflow = nipype.Workflow('workflow')\n",
    "workflow.connect([(grabber, neck_remove, [('out_file', 'in_file')]),\n",
    "                  (neck_remove, N4_FC, [('out_roi', 'input_image')]),\n",
    "                  (N4_FC, sink, [('output_image', '@in_file.@final')])])"
   ]
  },
  {
   "cell_type": "code",
   "execution_count": 7,
   "metadata": {},
   "outputs": [
    {
     "name": "stdout",
     "output_type": "stream",
     "text": [
      "170921-10:57:56,338 workflow INFO:\n",
      "\t Workflow workflow settings: ['check', 'execution', 'logging']\n",
      "170921-10:57:56,406 workflow INFO:\n",
      "\t Running serially.\n",
      "170921-10:57:56,408 workflow INFO:\n",
      "\t Executing node grabber in dir: /var/folders/5_/33p0sl3j2_ngqn_gghyy2zj00000gn/T/tmpM4tAw3/workflow/grabber\n",
      "170921-10:57:56,462 workflow INFO:\n",
      "\t Executing node neck_remove in dir: /var/folders/5_/33p0sl3j2_ngqn_gghyy2zj00000gn/T/tmp_LuIz3/workflow/neck_remove\n",
      "170921-10:57:56,470 workflow INFO:\n",
      "\t Executing node _neck_remove0 in dir: /var/folders/5_/33p0sl3j2_ngqn_gghyy2zj00000gn/T/tmp_LuIz3/workflow/neck_remove/mapflow/_neck_remove0\n",
      "170921-10:57:56,478 workflow INFO:\n",
      "\t Running: robustfov -i /Users/poggiali/GitHub/dementiawindow/examples/another_guy/t1w.nii.gz -r t1w_fov.nii.gz -m t1w_to_ROI.nii.gz\n",
      "170921-10:58:14,528 interface INFO:\n",
      "\t stdout 2017-09-21T10:58:14.528189:Final FOV is: \n",
      "170921-10:58:14,529 interface INFO:\n",
      "\t stdout 2017-09-21T10:58:14.528189:0.000000 180.000000 0.000000 560.000000 140.000000 396.000000 \n",
      "170921-10:58:14,530 interface INFO:\n",
      "\t stdout 2017-09-21T10:58:14.528189:\n",
      "170921-10:58:15,45 workflow INFO:\n",
      "\t Executing node _neck_remove1 in dir: /var/folders/5_/33p0sl3j2_ngqn_gghyy2zj00000gn/T/tmp_LuIz3/workflow/neck_remove/mapflow/_neck_remove1\n",
      "170921-10:58:15,52 workflow INFO:\n",
      "\t Running: robustfov -i /Users/poggiali/GitHub/dementiawindow/examples/myself/t1w.nii.gz -r t1w_fov.nii.gz -m t1w_to_ROI.nii.gz\n",
      "170921-10:58:33,89 interface INFO:\n",
      "\t stdout 2017-09-21T10:58:33.088862:Final FOV is: \n",
      "170921-10:58:33,90 interface INFO:\n",
      "\t stdout 2017-09-21T10:58:33.088862:0.000000 180.000000 0.000000 560.000000 140.000000 396.000000 \n",
      "170921-10:58:33,91 interface INFO:\n",
      "\t stdout 2017-09-21T10:58:33.088862:\n",
      "170921-10:58:33,614 workflow INFO:\n",
      "\t Executing node N4_FC in dir: /var/folders/5_/33p0sl3j2_ngqn_gghyy2zj00000gn/T/tmp_Hrb5D/workflow/N4_FC\n",
      "170921-10:58:33,623 workflow INFO:\n",
      "\t Executing node _N4_FC0 in dir: /var/folders/5_/33p0sl3j2_ngqn_gghyy2zj00000gn/T/tmp_Hrb5D/workflow/N4_FC/mapflow/_N4_FC0\n",
      "170921-10:58:33,631 workflow INFO:\n",
      "\t Running: N4BiasFieldCorrection -d 3 --input-image /private/var/folders/5_/33p0sl3j2_ngqn_gghyy2zj00000gn/T/tmp_LuIz3/workflow/neck_remove/mapflow/_neck_remove0/t1w_fov.nii.gz --output t1w_fov_N4.nii.gz\n",
      "170921-11:01:12,145 workflow INFO:\n",
      "\t Executing node _N4_FC1 in dir: /var/folders/5_/33p0sl3j2_ngqn_gghyy2zj00000gn/T/tmp_Hrb5D/workflow/N4_FC/mapflow/_N4_FC1\n",
      "170921-11:01:12,153 workflow INFO:\n",
      "\t Running: N4BiasFieldCorrection -d 3 --input-image /private/var/folders/5_/33p0sl3j2_ngqn_gghyy2zj00000gn/T/tmp_LuIz3/workflow/neck_remove/mapflow/_neck_remove1/t1w_fov.nii.gz --output t1w_fov_N4.nii.gz\n",
      "170921-11:03:42,82 workflow INFO:\n",
      "\t Executing node sink in dir: /var/folders/5_/33p0sl3j2_ngqn_gghyy2zj00000gn/T/tmpOOWA9A/workflow/sink\n"
     ]
    },
    {
     "data": {
      "text/plain": [
       "<networkx.classes.digraph.DiGraph at 0x111237d90>"
      ]
     },
     "execution_count": 7,
     "metadata": {},
     "output_type": "execute_result"
    }
   ],
   "source": [
    "workflow.run()\n",
    "#workflow.run('MultiProc', plugin_args={'n_procs': TASKS})"
   ]
  },
  {
   "cell_type": "code",
   "execution_count": null,
   "metadata": {
    "collapsed": true
   },
   "outputs": [],
   "source": []
  },
  {
   "cell_type": "code",
   "execution_count": null,
   "metadata": {
    "collapsed": true
   },
   "outputs": [],
   "source": []
  }
 ],
 "metadata": {
  "kernelspec": {
   "display_name": "Python [default]",
   "language": "python",
   "name": "python2"
  },
  "language_info": {
   "codemirror_mode": {
    "name": "ipython",
    "version": 2
   },
   "file_extension": ".py",
   "mimetype": "text/x-python",
   "name": "python",
   "nbconvert_exporter": "python",
   "pygments_lexer": "ipython2",
   "version": "2.7.13"
  }
 },
 "nbformat": 4,
 "nbformat_minor": 2
}
