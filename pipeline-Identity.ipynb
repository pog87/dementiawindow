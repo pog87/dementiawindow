{
 "cells": [
  {
   "cell_type": "code",
   "execution_count": 1,
   "metadata": {
    "collapsed": true
   },
   "outputs": [],
   "source": [
    "import nipype\n",
    "\n",
    "from nipype.interfaces import fsl\n",
    "from nipype.interfaces import ants\n",
    "from nipype.interfaces import freesurfer\n",
    "import os"
   ]
  },
  {
   "cell_type": "code",
   "execution_count": 2,
   "metadata": {
    "collapsed": true
   },
   "outputs": [],
   "source": [
    "def pathfinder(subject, foldername, filename):\n",
    "    from os.path import join as opj\n",
    "    struct_path = opj(foldername, subject, filename)\n",
    "    return struct_path"
   ]
  },
  {
   "cell_type": "code",
   "execution_count": 3,
   "metadata": {},
   "outputs": [],
   "source": [
    "data_dir = os.path.abspath('examples/')\n",
    "subject_list =sorted(next(os.walk(data_dir))[1])\n",
    "T1_identifier = 't1w.nii.gz'"
   ]
  },
  {
   "cell_type": "code",
   "execution_count": 4,
   "metadata": {},
   "outputs": [
    {
     "data": {
      "text/plain": [
       "['another_guy', 'myself', 'yet_another']"
      ]
     },
     "execution_count": 4,
     "metadata": {},
     "output_type": "execute_result"
    }
   ],
   "source": [
    "subject_list"
   ]
  },
  {
   "cell_type": "code",
   "execution_count": 5,
   "metadata": {
    "collapsed": true
   },
   "outputs": [],
   "source": [
    "CORES=4\n",
    "TASKS=2"
   ]
  },
  {
   "cell_type": "code",
   "execution_count": 6,
   "metadata": {
    "collapsed": true
   },
   "outputs": [],
   "source": [
    "infosource = nipype.Node(nipype.IdentityInterface(fields=['subject_id']),name=\"infosource\")\n",
    "infosource.iterables = ('subject_id', subject_list)"
   ]
  },
  {
   "cell_type": "code",
   "execution_count": 7,
   "metadata": {},
   "outputs": [],
   "source": [
    "sink = nipype.Node(interface=nipype.DataSink(),name='sink')\n",
    "sink.inputs.base_directory = data_dir\n",
    "\n",
    "substitutions=[]\n",
    "for i in range(len(subject_list)):\n",
    "    substitutions+= [(\"_neck_remove\"+str(i),\"\")]\n",
    "substitutions+= [(\"_subject_id_\", \"\")]\n",
    "sink.inputs.substitutions =substitutions "
   ]
  },
  {
   "cell_type": "code",
   "execution_count": 8,
   "metadata": {
    "collapsed": true
   },
   "outputs": [],
   "source": [
    "sink2 = nipype.Node(interface=nipype.DataSink(),name='sink2')\n",
    "sink.inputs.base_directory = data_dir\n",
    "\n",
    "substitutions=[]\n",
    "for i in range(len(subject_list)):\n",
    "    substitutions+= [(\"_N4_FC\"+str(i), \"\")]\n",
    "substitutions+= [(\"_subject_id_\", \"\")]\n",
    "sink.inputs.substitutions =substitutions "
   ]
  },
  {
   "cell_type": "code",
   "execution_count": 9,
   "metadata": {
    "collapsed": true
   },
   "outputs": [],
   "source": [
    "# Neck removal by FSL robustfov\n",
    "neck_remove=nipype.MapNode(interface=fsl.RobustFOV(), name='neck_remove', iterfield=['in_file'])\n",
    "neck_remove.inputs.out_roi=\"t1w_fov.nii.gz\""
   ]
  },
  {
   "cell_type": "code",
   "execution_count": 10,
   "metadata": {
    "collapsed": true
   },
   "outputs": [],
   "source": [
    "# Field Inhomogenity estimation (if any) and removal by ANTs N4BiasFieldCorrection\n",
    "N4_FC=nipype.MapNode(interface=ants.N4BiasFieldCorrection(), name=\"N4_FC\", iterfield=['input_image'])\n",
    "N4_FC.inputs.dimension = 3\n",
    "N4_FC.inputs.output_image=\"t1w_fov_N4.nii.gz\"\n",
    "N4_FC.inputs.num_threads=CORES"
   ]
  },
  {
   "cell_type": "code",
   "execution_count": 11,
   "metadata": {},
   "outputs": [],
   "source": [
    "workflow = nipype.Workflow('workflow')\n",
    "workflow.connect([(infosource, neck_remove, [(('subject_id', pathfinder,data_dir, T1_identifier), 'in_file')]),\n",
    "                  (neck_remove, sink, [('out_roi', '@in_file')]),\n",
    "                  (neck_remove, N4_FC, [('out_roi', 'input_image')]),\n",
    "                  (N4_FC, sink2, [('output_image', '@in_file')])\n",
    "                 ])"
   ]
  },
  {
   "cell_type": "code",
   "execution_count": 12,
   "metadata": {},
   "outputs": [
    {
     "name": "stdout",
     "output_type": "stream",
     "text": [
      "170927-19:27:37,849 workflow INFO:\n",
      "\t Workflow workflow settings: ['check', 'execution', 'logging']\n",
      "170927-19:27:37,929 workflow INFO:\n",
      "\t Running in parallel.\n",
      "170927-19:27:37,933 workflow INFO:\n",
      "\t Executing: neck_remove.a2 ID: 0\n",
      "170927-19:27:37,937 workflow INFO:\n",
      "\t Executing: neck_remove.a0 ID: 2\n",
      "170927-19:27:37,941 workflow INFO:\n",
      "\t Executing node neck_remove.a2 in dir: /var/folders/5_/33p0sl3j2_ngqn_gghyy2zj00000gn/T/tmpHhzLBN/workflow/_subject_id_yet_another/neck_remove\n",
      "170927-19:27:37,944 workflow INFO:\n",
      "\t Executing node neck_remove.a0 in dir: /var/folders/5_/33p0sl3j2_ngqn_gghyy2zj00000gn/T/tmpl51Wzz/workflow/_subject_id_another_guy/neck_remove\n",
      "170927-19:27:37,963 workflow INFO:\n",
      "\t Executing node _neck_remove0 in dir: /var/folders/5_/33p0sl3j2_ngqn_gghyy2zj00000gn/T/tmpHhzLBN/workflow/_subject_id_yet_another/neck_remove/mapflow/_neck_remove0\n",
      "170927-19:27:37,973 workflow INFO:\n",
      "\t Executing node _neck_remove0 in dir: /var/folders/5_/33p0sl3j2_ngqn_gghyy2zj00000gn/T/tmpl51Wzz/workflow/_subject_id_another_guy/neck_remove/mapflow/_neck_remove0\n",
      "170927-19:27:37,974 workflow INFO:\n",
      "\t Running: robustfov -i /Users/poggiali/GitHub/dementiawindow/examples/yet_another/t1w.nii.gz -r t1w_fov.nii.gz -m t1w_to_ROI.nii.gz\n",
      "170927-19:27:37,985 workflow INFO:\n",
      "\t Running: robustfov -i /Users/poggiali/GitHub/dementiawindow/examples/another_guy/t1w.nii.gz -r t1w_fov.nii.gz -m t1w_to_ROI.nii.gz\n",
      "170927-19:28:05,184 interface INFO:\n",
      "\t stdout 2017-09-27T19:28:05.183740:Final FOV is: \n",
      "170927-19:28:05,186 interface INFO:\n",
      "\t stdout 2017-09-27T19:28:05.183740:0.000000 180.000000 0.000000 448.000000 101.000000 346.000000 \n",
      "170927-19:28:05,188 interface INFO:\n",
      "\t stdout 2017-09-27T19:28:05.183740:\n",
      "170927-19:28:05,720 workflow INFO:\n",
      "\t [Job finished] jobname: neck_remove.a2 jobid: 0\n",
      "170927-19:28:05,723 workflow INFO:\n",
      "\t Executing: sink.a2 ID: 1\n",
      "170927-19:28:05,732 workflow INFO:\n",
      "\t Executing node sink.a2 in dir: /var/folders/5_/33p0sl3j2_ngqn_gghyy2zj00000gn/T/tmpLveZOh/workflow/_subject_id_yet_another/sink\n",
      "170927-19:28:05,746 interface INFO:\n",
      "\t sub: /Users/poggiali/GitHub/dementiawindow/examples/_subject_id_yet_another/_neck_remove0/t1w_fov.nii.gz -> /Users/poggiali/GitHub/dementiawindow/examples/yet_another/_neck_remove0/t1w_fov.nii.gz\n",
      "170927-19:28:05,765 workflow INFO:\n",
      "\t [Job finished] jobname: sink.a2 jobid: 1\n",
      "170927-19:28:05,769 workflow INFO:\n",
      "\t Executing: N4_FC.a2 ID: 4\n",
      "170927-19:28:05,780 workflow INFO:\n",
      "\t Executing node N4_FC.a2 in dir: /var/folders/5_/33p0sl3j2_ngqn_gghyy2zj00000gn/T/tmpNSt9Kd/workflow/_subject_id_yet_another/N4_FC\n",
      "170927-19:28:05,791 workflow INFO:\n",
      "\t Executing node _N4_FC0 in dir: /var/folders/5_/33p0sl3j2_ngqn_gghyy2zj00000gn/T/tmpNSt9Kd/workflow/_subject_id_yet_another/N4_FC/mapflow/_N4_FC0\n",
      "170927-19:28:05,799 workflow INFO:\n",
      "\t Running: N4BiasFieldCorrection -d 3 --input-image /private/var/folders/5_/33p0sl3j2_ngqn_gghyy2zj00000gn/T/tmpHhzLBN/workflow/_subject_id_yet_another/neck_remove/mapflow/_neck_remove0/t1w_fov.nii.gz --output t1w_fov_N4.nii.gz\n",
      "170927-19:28:07,735 interface INFO:\n",
      "\t stdout 2017-09-27T19:28:07.734670:Final FOV is: \n",
      "170927-19:28:07,737 interface INFO:\n",
      "\t stdout 2017-09-27T19:28:07.734670:0.000000 180.000000 0.000000 448.000000 101.000000 346.000000 \n",
      "170927-19:28:07,739 interface INFO:\n",
      "\t stdout 2017-09-27T19:28:07.734670:\n",
      "170927-19:28:08,283 workflow INFO:\n",
      "\t [Job finished] jobname: neck_remove.a0 jobid: 2\n",
      "170927-19:28:08,287 workflow INFO:\n",
      "\t Executing: N4_FC.a0 ID: 3\n",
      "170927-19:28:08,300 workflow INFO:\n",
      "\t Executing node N4_FC.a0 in dir: /var/folders/5_/33p0sl3j2_ngqn_gghyy2zj00000gn/T/tmpuy6vRs/workflow/_subject_id_another_guy/N4_FC\n",
      "170927-19:28:08,316 workflow INFO:\n",
      "\t Executing node _N4_FC0 in dir: /var/folders/5_/33p0sl3j2_ngqn_gghyy2zj00000gn/T/tmpuy6vRs/workflow/_subject_id_another_guy/N4_FC/mapflow/_N4_FC0\n",
      "170927-19:28:08,329 workflow INFO:\n",
      "\t Running: N4BiasFieldCorrection -d 3 --input-image /private/var/folders/5_/33p0sl3j2_ngqn_gghyy2zj00000gn/T/tmpl51Wzz/workflow/_subject_id_another_guy/neck_remove/mapflow/_neck_remove0/t1w_fov.nii.gz --output t1w_fov_N4.nii.gz\n",
      "170927-19:30:42,393 workflow INFO:\n",
      "\t [Job finished] jobname: N4_FC.a2 jobid: 4\n",
      "170927-19:30:42,396 workflow INFO:\n",
      "\t Executing: sink2.a2 ID: 5\n",
      "170927-19:30:42,402 workflow INFO:\n",
      "\t Executing node sink2.a2 in dir: /var/folders/5_/33p0sl3j2_ngqn_gghyy2zj00000gn/T/tmp6jApB4/workflow/_subject_id_yet_another/sink2\n",
      "170927-19:30:42,419 workflow INFO:\n",
      "\t [Job finished] jobname: sink2.a2 jobid: 5\n",
      "170927-19:30:42,422 workflow INFO:\n",
      "\t Executing: sink.a0 ID: 7\n",
      "170927-19:30:42,435 workflow INFO:\n",
      "\t Executing node sink.a0 in dir: /var/folders/5_/33p0sl3j2_ngqn_gghyy2zj00000gn/T/tmpaUKmVU/workflow/_subject_id_another_guy/sink\n",
      "170927-19:30:42,443 interface INFO:\n",
      "\t sub: /Users/poggiali/GitHub/dementiawindow/examples/_subject_id_another_guy/_neck_remove0/t1w_fov.nii.gz -> /Users/poggiali/GitHub/dementiawindow/examples/another_guy/_neck_remove0/t1w_fov.nii.gz\n",
      "170927-19:30:42,452 workflow INFO:\n",
      "\t [Job finished] jobname: sink.a0 jobid: 7\n",
      "170927-19:30:42,454 workflow INFO:\n",
      "\t Executing: neck_remove.a1 ID: 8\n",
      "170927-19:30:42,458 workflow INFO:\n",
      "\t Executing node neck_remove.a1 in dir: /var/folders/5_/33p0sl3j2_ngqn_gghyy2zj00000gn/T/tmpa17dNl/workflow/_subject_id_myself/neck_remove\n",
      "170927-19:30:42,466 workflow INFO:\n",
      "\t Executing node _neck_remove0 in dir: /var/folders/5_/33p0sl3j2_ngqn_gghyy2zj00000gn/T/tmpa17dNl/workflow/_subject_id_myself/neck_remove/mapflow/_neck_remove0\n",
      "170927-19:30:42,473 workflow INFO:\n",
      "\t Running: robustfov -i /Users/poggiali/GitHub/dementiawindow/examples/myself/t1w.nii.gz -r t1w_fov.nii.gz -m t1w_to_ROI.nii.gz\n",
      "170927-19:30:44,903 workflow INFO:\n",
      "\t [Job finished] jobname: N4_FC.a0 jobid: 3\n",
      "170927-19:30:44,908 workflow INFO:\n",
      "\t Executing: sink2.a0 ID: 6\n",
      "170927-19:30:44,917 workflow INFO:\n",
      "\t Executing node sink2.a0 in dir: /var/folders/5_/33p0sl3j2_ngqn_gghyy2zj00000gn/T/tmpGRVJ8F/workflow/_subject_id_another_guy/sink2\n",
      "170927-19:30:44,949 workflow INFO:\n",
      "\t [Job finished] jobname: sink2.a0 jobid: 6\n",
      "170927-19:31:00,972 interface INFO:\n",
      "\t stdout 2017-09-27T19:31:00.972118:Final FOV is: \n",
      "170927-19:31:00,974 interface INFO:\n",
      "\t stdout 2017-09-27T19:31:00.972118:0.000000 180.000000 0.000000 560.000000 140.000000 396.000000 \n",
      "170927-19:31:00,976 interface INFO:\n",
      "\t stdout 2017-09-27T19:31:00.972118:\n",
      "170927-19:31:01,521 workflow INFO:\n",
      "\t [Job finished] jobname: neck_remove.a1 jobid: 8\n",
      "170927-19:31:01,524 workflow INFO:\n",
      "\t Executing: sink.a1 ID: 9\n",
      "170927-19:31:01,531 workflow INFO:\n",
      "\t Executing: N4_FC.a1 ID: 10\n",
      "170927-19:31:01,533 workflow INFO:\n",
      "\t Executing node sink.a1 in dir: /var/folders/5_/33p0sl3j2_ngqn_gghyy2zj00000gn/T/tmpWUgSBz/workflow/_subject_id_myself/sink\n",
      "170927-19:31:01,544 workflow INFO:\n",
      "\t Executing node N4_FC.a1 in dir: /var/folders/5_/33p0sl3j2_ngqn_gghyy2zj00000gn/T/tmpsuHivo/workflow/_subject_id_myself/N4_FC\n",
      "170927-19:31:01,550 interface INFO:\n",
      "\t sub: /Users/poggiali/GitHub/dementiawindow/examples/_subject_id_myself/_neck_remove0/t1w_fov.nii.gz -> /Users/poggiali/GitHub/dementiawindow/examples/myself/_neck_remove0/t1w_fov.nii.gz\n",
      "170927-19:31:01,558 workflow INFO:\n",
      "\t Executing node _N4_FC0 in dir: /var/folders/5_/33p0sl3j2_ngqn_gghyy2zj00000gn/T/tmpsuHivo/workflow/_subject_id_myself/N4_FC/mapflow/_N4_FC0\n",
      "170927-19:31:01,570 workflow INFO:\n",
      "\t Running: N4BiasFieldCorrection -d 3 --input-image /private/var/folders/5_/33p0sl3j2_ngqn_gghyy2zj00000gn/T/tmpa17dNl/workflow/_subject_id_myself/neck_remove/mapflow/_neck_remove0/t1w_fov.nii.gz --output t1w_fov_N4.nii.gz\n",
      "170927-19:31:01,579 workflow INFO:\n",
      "\t [Job finished] jobname: sink.a1 jobid: 9\n",
      "170927-19:33:31,968 workflow INFO:\n",
      "\t [Job finished] jobname: N4_FC.a1 jobid: 10\n",
      "170927-19:33:31,971 workflow INFO:\n",
      "\t Executing: sink2.a1 ID: 11\n",
      "170927-19:33:31,983 workflow INFO:\n",
      "\t Executing node sink2.a1 in dir: /var/folders/5_/33p0sl3j2_ngqn_gghyy2zj00000gn/T/tmplr2uEu/workflow/_subject_id_myself/sink2\n",
      "170927-19:33:31,999 workflow INFO:\n",
      "\t [Job finished] jobname: sink2.a1 jobid: 11\n"
     ]
    },
    {
     "data": {
      "text/plain": [
       "<networkx.classes.digraph.DiGraph at 0x1124e2a50>"
      ]
     },
     "execution_count": 12,
     "metadata": {},
     "output_type": "execute_result"
    }
   ],
   "source": [
    "#workflow.run()\n",
    "workflow.run('MultiProc', plugin_args={'n_procs': TASKS})"
   ]
  },
  {
   "cell_type": "code",
   "execution_count": null,
   "metadata": {
    "collapsed": true
   },
   "outputs": [],
   "source": []
  }
 ],
 "metadata": {
  "kernelspec": {
   "display_name": "Python [default]",
   "language": "python",
   "name": "python2"
  },
  "language_info": {
   "codemirror_mode": {
    "name": "ipython",
    "version": 2
   },
   "file_extension": ".py",
   "mimetype": "text/x-python",
   "name": "python",
   "nbconvert_exporter": "python",
   "pygments_lexer": "ipython2",
   "version": "2.7.13"
  }
 },
 "nbformat": 4,
 "nbformat_minor": 2
}
